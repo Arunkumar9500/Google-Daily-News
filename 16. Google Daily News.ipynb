{
 "cells": [
  {
   "cell_type": "markdown",
   "id": "68b9850f-e6ec-43fe-8acc-5924d8005fb3",
   "metadata": {},
   "source": [
    "# This is my 16. global daily news project with 96% score Extra Tree"
   ]
  },
  {
   "cell_type": "markdown",
   "id": "71098255-c51c-4c91-bf00-f8d13118d4e7",
   "metadata": {},
   "source": [
    "# Import Required Libraries"
   ]
  },
  {
   "cell_type": "code",
   "execution_count": 1,
   "id": "492ddd1a-4220-4fe2-8e9c-6c2d23d5f4e6",
   "metadata": {},
   "outputs": [],
   "source": [
    "# Data handling\n",
    "import numpy as np\n",
    "import pandas as pd\n",
    "\n",
    "# Visualization\n",
    "import matplotlib.pyplot as plt\n",
    "import seaborn as sns\n",
    "%matplotlib inline\n",
    "\n",
    "# Preprocessing & splitting\n",
    "from sklearn.model_selection import train_test_split, GridSearchCV\n",
    "from sklearn.preprocessing import StandardScaler, LabelEncoder\n",
    "from sklearn.compose import ColumnTransformer\n",
    "from sklearn.pipeline import make_pipeline,Pipeline\n",
    "from sklearn.impute import SimpleImputer\n",
    "\n",
    "# NLP\n",
    "import re\n",
    "from sklearn.feature_extraction.text import TfidfVectorizer\n",
    "from sklearn.feature_extraction.text import ENGLISH_STOP_WORDS\n",
    "from imblearn.over_sampling import SMOTE\n",
    "from collections import Counter\n",
    "\n",
    "# Evaluation metrics\n",
    "from sklearn.metrics import (accuracy_score,precision_score,recall_score,f1_score,\n",
    "    classification_report,confusion_matrix,auc,roc_auc_score, roc_curve\n",
    ")\n",
    "\n",
    "# Regression Models\n",
    "from sklearn.naive_bayes import MultinomialNB\n",
    "from sklearn.naive_bayes import MultinomialNB\n",
    "from sklearn.linear_model import LogisticRegression\n",
    "from sklearn.tree import DecisionTreeClassifier\n",
    "from sklearn.ensemble import RandomForestClassifier,AdaBoostClassifier,GradientBoostingClassifier,ExtraTreesClassifier\n",
    "from sklearn.neighbors import KNeighborsClassifier\n",
    "from sklearn.svm import SVC\n",
    "from sklearn.neural_network import MLPClassifier\n",
    "from sklearn.tree import DecisionTreeClassifier\n",
    "\n",
    "from sklearn.svm import SVC\n",
    "from sklearn.neighbors import KNeighborsClassifier\n",
    "\n",
    "# XGBoost\n",
    "from xgboost import XGBClassifier\n",
    "# Warnings\n",
    "import warnings\n",
    "warnings.filterwarnings(\"ignore\")\n",
    "\n",
    "# Save the model\n",
    "import joblib"
   ]
  },
  {
   "cell_type": "markdown",
   "id": "be59c473-a8d5-45f2-9c79-85e71f455f27",
   "metadata": {},
   "source": [
    "# Data Exploration"
   ]
  },
  {
   "cell_type": "code",
   "execution_count": 2,
   "id": "aee9557b-11b2-4410-a494-908dc047afe7",
   "metadata": {},
   "outputs": [
    {
     "data": {
      "text/html": [
       "<div>\n",
       "<style scoped>\n",
       "    .dataframe tbody tr th:only-of-type {\n",
       "        vertical-align: middle;\n",
       "    }\n",
       "\n",
       "    .dataframe tbody tr th {\n",
       "        vertical-align: top;\n",
       "    }\n",
       "\n",
       "    .dataframe thead th {\n",
       "        text-align: right;\n",
       "    }\n",
       "</style>\n",
       "<table border=\"1\" class=\"dataframe\">\n",
       "  <thead>\n",
       "    <tr style=\"text-align: right;\">\n",
       "      <th></th>\n",
       "      <th>category</th>\n",
       "      <th>datetime</th>\n",
       "      <th>headline</th>\n",
       "      <th>id</th>\n",
       "      <th>image</th>\n",
       "      <th>related</th>\n",
       "      <th>source</th>\n",
       "      <th>summary</th>\n",
       "      <th>url</th>\n",
       "    </tr>\n",
       "  </thead>\n",
       "  <tbody>\n",
       "    <tr>\n",
       "      <th>0</th>\n",
       "      <td>company</td>\n",
       "      <td>1745449200</td>\n",
       "      <td>Alphabet earnings, Fed comments, Nintendo Swit...</td>\n",
       "      <td>134059226</td>\n",
       "      <td>https://s.yimg.com/rz/stage/p/yahoo_finance_en...</td>\n",
       "      <td>GOOGL</td>\n",
       "      <td>Yahoo</td>\n",
       "      <td>Here's what investors are watching on Thursday...</td>\n",
       "      <td>https://finnhub.io/api/news?id=5381fda0f641074...</td>\n",
       "    </tr>\n",
       "    <tr>\n",
       "      <th>1</th>\n",
       "      <td>company</td>\n",
       "      <td>1745446095</td>\n",
       "      <td>Is Alphabet Inc. (GOOGL) the Best Stock to Buy...</td>\n",
       "      <td>134059227</td>\n",
       "      <td>https://s.yimg.com/rz/stage/p/yahoo_finance_en...</td>\n",
       "      <td>GOOGL</td>\n",
       "      <td>Yahoo</td>\n",
       "      <td>We recently published a list of 10 Best Stocks...</td>\n",
       "      <td>https://finnhub.io/api/news?id=bdc5b5103ae73db...</td>\n",
       "    </tr>\n",
       "    <tr>\n",
       "      <th>2</th>\n",
       "      <td>company</td>\n",
       "      <td>1745442355</td>\n",
       "      <td>Is Alphabet Inc. (GOOG) the Best Stock to Buy ...</td>\n",
       "      <td>134059228</td>\n",
       "      <td>https://s.yimg.com/rz/stage/p/yahoo_finance_en...</td>\n",
       "      <td>GOOGL</td>\n",
       "      <td>Yahoo</td>\n",
       "      <td>We recently published a list of 20 Best Stocks...</td>\n",
       "      <td>https://finnhub.io/api/news?id=8cdf3969c1ec9e3...</td>\n",
       "    </tr>\n",
       "    <tr>\n",
       "      <th>3</th>\n",
       "      <td>company</td>\n",
       "      <td>1745440328</td>\n",
       "      <td>Google earnings are coming today. Here's what ...</td>\n",
       "      <td>134059229</td>\n",
       "      <td>https://s.yimg.com/rz/stage/p/yahoo_finance_en...</td>\n",
       "      <td>GOOGL</td>\n",
       "      <td>Yahoo</td>\n",
       "      <td>Google (GOOGL) will report first-quarter 2025 ...</td>\n",
       "      <td>https://finnhub.io/api/news?id=ed468a233b607bd...</td>\n",
       "    </tr>\n",
       "    <tr>\n",
       "      <th>4</th>\n",
       "      <td>company</td>\n",
       "      <td>1745439372</td>\n",
       "      <td>Equity Markets Close Higher Over Potential Red...</td>\n",
       "      <td>134059230</td>\n",
       "      <td>https://s.yimg.com/rz/stage/p/yahoo_finance_en...</td>\n",
       "      <td>GOOGL</td>\n",
       "      <td>Yahoo</td>\n",
       "      <td>US benchmark equity indexes closed higher on W...</td>\n",
       "      <td>https://finnhub.io/api/news?id=54bdad840d13d87...</td>\n",
       "    </tr>\n",
       "  </tbody>\n",
       "</table>\n",
       "</div>"
      ],
      "text/plain": [
       "  category    datetime                                           headline  \\\n",
       "0  company  1745449200  Alphabet earnings, Fed comments, Nintendo Swit...   \n",
       "1  company  1745446095  Is Alphabet Inc. (GOOGL) the Best Stock to Buy...   \n",
       "2  company  1745442355  Is Alphabet Inc. (GOOG) the Best Stock to Buy ...   \n",
       "3  company  1745440328  Google earnings are coming today. Here's what ...   \n",
       "4  company  1745439372  Equity Markets Close Higher Over Potential Red...   \n",
       "\n",
       "          id                                              image related  \\\n",
       "0  134059226  https://s.yimg.com/rz/stage/p/yahoo_finance_en...   GOOGL   \n",
       "1  134059227  https://s.yimg.com/rz/stage/p/yahoo_finance_en...   GOOGL   \n",
       "2  134059228  https://s.yimg.com/rz/stage/p/yahoo_finance_en...   GOOGL   \n",
       "3  134059229  https://s.yimg.com/rz/stage/p/yahoo_finance_en...   GOOGL   \n",
       "4  134059230  https://s.yimg.com/rz/stage/p/yahoo_finance_en...   GOOGL   \n",
       "\n",
       "  source                                            summary  \\\n",
       "0  Yahoo  Here's what investors are watching on Thursday...   \n",
       "1  Yahoo  We recently published a list of 10 Best Stocks...   \n",
       "2  Yahoo  We recently published a list of 20 Best Stocks...   \n",
       "3  Yahoo  Google (GOOGL) will report first-quarter 2025 ...   \n",
       "4  Yahoo  US benchmark equity indexes closed higher on W...   \n",
       "\n",
       "                                                 url  \n",
       "0  https://finnhub.io/api/news?id=5381fda0f641074...  \n",
       "1  https://finnhub.io/api/news?id=bdc5b5103ae73db...  \n",
       "2  https://finnhub.io/api/news?id=8cdf3969c1ec9e3...  \n",
       "3  https://finnhub.io/api/news?id=ed468a233b607bd...  \n",
       "4  https://finnhub.io/api/news?id=54bdad840d13d87...  "
      ]
     },
     "execution_count": 2,
     "metadata": {},
     "output_type": "execute_result"
    }
   ],
   "source": [
    "data = pd.read_csv('Google_Daily_News.csv')\n",
    "data.head()"
   ]
  },
  {
   "cell_type": "code",
   "execution_count": 3,
   "id": "e6878299-b8e7-4299-a638-3d3e4067491b",
   "metadata": {},
   "outputs": [
    {
     "data": {
      "text/plain": [
       "(231, 9)"
      ]
     },
     "execution_count": 3,
     "metadata": {},
     "output_type": "execute_result"
    }
   ],
   "source": [
    "data.shape"
   ]
  },
  {
   "cell_type": "code",
   "execution_count": 4,
   "id": "423539ae-f9c8-4cdb-bd64-b1dd3912fcd0",
   "metadata": {},
   "outputs": [
    {
     "data": {
      "text/plain": [
       "'https://finnhub.io/api/news?id=5381fda0f64107479e57e667e05aedac92a8ea8f9d11b882b7eb47b954e7703c'"
      ]
     },
     "execution_count": 4,
     "metadata": {},
     "output_type": "execute_result"
    }
   ],
   "source": [
    "data[\"url\"][0]"
   ]
  },
  {
   "cell_type": "code",
   "execution_count": 5,
   "id": "6f5a07e4-7933-48d9-a430-96f0383a93d8",
   "metadata": {},
   "outputs": [
    {
     "data": {
      "text/plain": [
       "'https://s.yimg.com/rz/stage/p/yahoo_finance_en-US_h_p_finance_2.png'"
      ]
     },
     "execution_count": 5,
     "metadata": {},
     "output_type": "execute_result"
    }
   ],
   "source": [
    "data[\"image\"][0]"
   ]
  },
  {
   "cell_type": "markdown",
   "id": "ba550089-1a4c-4d7d-ae5c-152af8e60321",
   "metadata": {},
   "source": [
    "# EDA"
   ]
  },
  {
   "cell_type": "code",
   "execution_count": 6,
   "id": "e75e562f-e28f-44d6-8e83-9162fccdc805",
   "metadata": {},
   "outputs": [
    {
     "data": {
      "text/html": [
       "<div>\n",
       "<style scoped>\n",
       "    .dataframe tbody tr th:only-of-type {\n",
       "        vertical-align: middle;\n",
       "    }\n",
       "\n",
       "    .dataframe tbody tr th {\n",
       "        vertical-align: top;\n",
       "    }\n",
       "\n",
       "    .dataframe thead th {\n",
       "        text-align: right;\n",
       "    }\n",
       "</style>\n",
       "<table border=\"1\" class=\"dataframe\">\n",
       "  <thead>\n",
       "    <tr style=\"text-align: right;\">\n",
       "      <th></th>\n",
       "      <th>category</th>\n",
       "      <th>headline</th>\n",
       "      <th>related</th>\n",
       "      <th>source</th>\n",
       "      <th>summary</th>\n",
       "    </tr>\n",
       "  </thead>\n",
       "  <tbody>\n",
       "    <tr>\n",
       "      <th>0</th>\n",
       "      <td>company</td>\n",
       "      <td>Alphabet earnings, Fed comments, Nintendo Swit...</td>\n",
       "      <td>GOOGL</td>\n",
       "      <td>Yahoo</td>\n",
       "      <td>Here's what investors are watching on Thursday...</td>\n",
       "    </tr>\n",
       "    <tr>\n",
       "      <th>1</th>\n",
       "      <td>company</td>\n",
       "      <td>Is Alphabet Inc. (GOOGL) the Best Stock to Buy...</td>\n",
       "      <td>GOOGL</td>\n",
       "      <td>Yahoo</td>\n",
       "      <td>We recently published a list of 10 Best Stocks...</td>\n",
       "    </tr>\n",
       "    <tr>\n",
       "      <th>2</th>\n",
       "      <td>company</td>\n",
       "      <td>Is Alphabet Inc. (GOOG) the Best Stock to Buy ...</td>\n",
       "      <td>GOOGL</td>\n",
       "      <td>Yahoo</td>\n",
       "      <td>We recently published a list of 20 Best Stocks...</td>\n",
       "    </tr>\n",
       "    <tr>\n",
       "      <th>3</th>\n",
       "      <td>company</td>\n",
       "      <td>Google earnings are coming today. Here's what ...</td>\n",
       "      <td>GOOGL</td>\n",
       "      <td>Yahoo</td>\n",
       "      <td>Google (GOOGL) will report first-quarter 2025 ...</td>\n",
       "    </tr>\n",
       "    <tr>\n",
       "      <th>4</th>\n",
       "      <td>company</td>\n",
       "      <td>Equity Markets Close Higher Over Potential Red...</td>\n",
       "      <td>GOOGL</td>\n",
       "      <td>Yahoo</td>\n",
       "      <td>US benchmark equity indexes closed higher on W...</td>\n",
       "    </tr>\n",
       "  </tbody>\n",
       "</table>\n",
       "</div>"
      ],
      "text/plain": [
       "  category                                           headline related source  \\\n",
       "0  company  Alphabet earnings, Fed comments, Nintendo Swit...   GOOGL  Yahoo   \n",
       "1  company  Is Alphabet Inc. (GOOGL) the Best Stock to Buy...   GOOGL  Yahoo   \n",
       "2  company  Is Alphabet Inc. (GOOG) the Best Stock to Buy ...   GOOGL  Yahoo   \n",
       "3  company  Google earnings are coming today. Here's what ...   GOOGL  Yahoo   \n",
       "4  company  Equity Markets Close Higher Over Potential Red...   GOOGL  Yahoo   \n",
       "\n",
       "                                             summary  \n",
       "0  Here's what investors are watching on Thursday...  \n",
       "1  We recently published a list of 10 Best Stocks...  \n",
       "2  We recently published a list of 20 Best Stocks...  \n",
       "3  Google (GOOGL) will report first-quarter 2025 ...  \n",
       "4  US benchmark equity indexes closed higher on W...  "
      ]
     },
     "execution_count": 6,
     "metadata": {},
     "output_type": "execute_result"
    }
   ],
   "source": [
    "data.drop(['image','id','datetime','url'],axis=1,inplace=True)\n",
    "data.head()"
   ]
  },
  {
   "cell_type": "code",
   "execution_count": 7,
   "id": "1fb28dd0-bcd9-4cdc-8272-2c0eff193965",
   "metadata": {},
   "outputs": [
    {
     "data": {
      "text/plain": [
       "category     0\n",
       "headline     0\n",
       "related      0\n",
       "source       0\n",
       "summary     41\n",
       "dtype: int64"
      ]
     },
     "execution_count": 7,
     "metadata": {},
     "output_type": "execute_result"
    }
   ],
   "source": [
    "data.isna().sum()"
   ]
  },
  {
   "cell_type": "markdown",
   "id": "19bd8ba3-5c36-40d6-a952-498bfc1901b9",
   "metadata": {},
   "source": [
    "# Handle missing values automatically"
   ]
  },
  {
   "cell_type": "code",
   "execution_count": 8,
   "id": "7993d1e7-e8bc-42d9-8f37-f4eda82b390d",
   "metadata": {},
   "outputs": [
    {
     "name": "stdout",
     "output_type": "stream",
     "text": [
      "All missing values handled!\n",
      "category    0\n",
      "headline    0\n",
      "related     0\n",
      "source      0\n",
      "summary     0\n",
      "dtype: int64\n"
     ]
    }
   ],
   "source": [
    "for col in data.columns:\n",
    "    if data[col].dtype in [\"int64\", \"float64\"]:   # Numeric columns\n",
    "        data[col] = data[col].fillna(data[col].median())\n",
    "    else:                                         # Categorical columns\n",
    "        data[col] = data[col].fillna(data[col].mode()[0])\n",
    "\n",
    "print(\"All missing values handled!\")\n",
    "print(data.isnull().sum())"
   ]
  },
  {
   "cell_type": "markdown",
   "id": "2ce51d63-8cab-49cc-bcac-f1b30fdc87fe",
   "metadata": {},
   "source": [
    "# Checking for all column number unique "
   ]
  },
  {
   "cell_type": "code",
   "execution_count": 9,
   "id": "4500b729-0b3b-4c37-a6d5-dd6e91fdff61",
   "metadata": {},
   "outputs": [
    {
     "name": "stdout",
     "output_type": "stream",
     "text": [
      "category\n",
      "1\n",
      "headline\n",
      "231\n",
      "related\n",
      "1\n",
      "source\n",
      "5\n",
      "summary\n",
      "188\n"
     ]
    }
   ],
   "source": [
    "for i in data.columns:\n",
    "    print(f\"{i}\")\n",
    "    print(f\"{data[i].nunique()}\")"
   ]
  },
  {
   "cell_type": "markdown",
   "id": "22c9dcf5-d55e-4bf3-bff0-630244effe24",
   "metadata": {},
   "source": [
    "# Drop for useless columns"
   ]
  },
  {
   "cell_type": "code",
   "execution_count": 10,
   "id": "0fd98797-799d-4d44-878f-41b0a329d4fb",
   "metadata": {},
   "outputs": [],
   "source": [
    "data.drop(columns=['category', 'related'], inplace=True)"
   ]
  },
  {
   "cell_type": "markdown",
   "id": "eac536c8-68a0-4e79-9f3e-2699be915e75",
   "metadata": {},
   "source": [
    "# Check for feature columns"
   ]
  },
  {
   "cell_type": "code",
   "execution_count": 11,
   "id": "c351f3b4-cd9e-42b0-aeba-cb835ffc475f",
   "metadata": {},
   "outputs": [
    {
     "data": {
      "text/plain": [
       "'Alphabet earnings, Fed comments, Nintendo Switch 2: What to Watch'"
      ]
     },
     "execution_count": 11,
     "metadata": {},
     "output_type": "execute_result"
    }
   ],
   "source": [
    "data['headline'][0]"
   ]
  },
  {
   "cell_type": "code",
   "execution_count": 12,
   "id": "d7a36409-274e-4ed3-893a-f60ea7053f1e",
   "metadata": {},
   "outputs": [
    {
     "data": {
      "text/plain": [
       "\"Here's what investors are watching on Thursday, April 24. Procter & Gamble (PG), Merck (MRK), and PepsiCo (PEP) are set to release quarterly results before the opening bell, while Alphabet (GOOG, GOOGL), T-Mobile (TMUS), and Intel (INTC) are on deck to report after the market close. Minneapolis Federal Reserve President Neel Kashkari will deliver remarks. Nintendo (NTDOY, 7974.T) will kick off Switch 2 pre-orders in the US and Canada. To watch more expert insights and analysis on the latest market action, check out more Market Domination Overtime here.\""
      ]
     },
     "execution_count": 12,
     "metadata": {},
     "output_type": "execute_result"
    }
   ],
   "source": [
    "data['summary'][0]"
   ]
  },
  {
   "cell_type": "markdown",
   "id": "738365bd-b1cb-4aa9-8167-235281940a51",
   "metadata": {},
   "source": [
    "# Cleaning for feature columns"
   ]
  },
  {
   "cell_type": "code",
   "execution_count": 13,
   "id": "09d51aba-577a-4b57-8709-c5870920261d",
   "metadata": {},
   "outputs": [],
   "source": [
    "def clean_text(text):\n",
    "    if pd.isnull(text):\n",
    "        return \"\"\n",
    "    text = text.lower()\n",
    "    text = re.sub(r'[^\\w\\s]', '', text)   # remove punctuation\n",
    "    text = re.sub(r'\\d+', '', text)       # remove digits\n",
    "    return text\n",
    "\n",
    "def clean_multiple_columns(df, columns):\n",
    "    for col in columns:\n",
    "        data[col] = data[col].astype(str).apply(clean_text)\n",
    "    return data\n"
   ]
  },
  {
   "cell_type": "code",
   "execution_count": 14,
   "id": "58be5ca7-7195-4a1e-9a8f-29631b6f5fdd",
   "metadata": {},
   "outputs": [],
   "source": [
    "data = pd.DataFrame(data)\n",
    "\n",
    "# Columns to clean\n",
    "text_columns = ['headline', 'summary']\n",
    "\n",
    "# Clean them\n",
    "data = clean_multiple_columns(data, text_columns)"
   ]
  },
  {
   "cell_type": "markdown",
   "id": "63aece83-e0a7-4c62-b7bc-271bff796e4d",
   "metadata": {},
   "source": [
    "# After cleaning columns"
   ]
  },
  {
   "cell_type": "code",
   "execution_count": 15,
   "id": "ec6f95b6-1de5-4e56-a2e1-4880c73d88af",
   "metadata": {},
   "outputs": [
    {
     "data": {
      "text/plain": [
       "'alphabet earnings fed comments nintendo switch  what to watch'"
      ]
     },
     "execution_count": 15,
     "metadata": {},
     "output_type": "execute_result"
    }
   ],
   "source": [
    "data['headline'][0]"
   ]
  },
  {
   "cell_type": "code",
   "execution_count": 16,
   "id": "a172d146-9590-4cfa-8844-3e9a2417c9f6",
   "metadata": {},
   "outputs": [
    {
     "data": {
      "text/plain": [
       "'heres what investors are watching on thursday april  procter  gamble pg merck mrk and pepsico pep are set to release quarterly results before the opening bell while alphabet goog googl tmobile tmus and intel intc are on deck to report after the market close minneapolis federal reserve president neel kashkari will deliver remarks nintendo ntdoy t will kick off switch  preorders in the us and canada to watch more expert insights and analysis on the latest market action check out more market domination overtime here'"
      ]
     },
     "execution_count": 16,
     "metadata": {},
     "output_type": "execute_result"
    }
   ],
   "source": [
    "data['summary'][0]"
   ]
  },
  {
   "cell_type": "code",
   "execution_count": 17,
   "id": "4750c9eb-c696-40d1-a42a-752376e074ad",
   "metadata": {},
   "outputs": [
    {
     "data": {
      "text/html": [
       "<div>\n",
       "<style scoped>\n",
       "    .dataframe tbody tr th:only-of-type {\n",
       "        vertical-align: middle;\n",
       "    }\n",
       "\n",
       "    .dataframe tbody tr th {\n",
       "        vertical-align: top;\n",
       "    }\n",
       "\n",
       "    .dataframe thead th {\n",
       "        text-align: right;\n",
       "    }\n",
       "</style>\n",
       "<table border=\"1\" class=\"dataframe\">\n",
       "  <thead>\n",
       "    <tr style=\"text-align: right;\">\n",
       "      <th></th>\n",
       "      <th>headline</th>\n",
       "      <th>source</th>\n",
       "      <th>summary</th>\n",
       "    </tr>\n",
       "  </thead>\n",
       "  <tbody>\n",
       "    <tr>\n",
       "      <th>0</th>\n",
       "      <td>alphabet earnings fed comments nintendo switch...</td>\n",
       "      <td>Yahoo</td>\n",
       "      <td>heres what investors are watching on thursday ...</td>\n",
       "    </tr>\n",
       "    <tr>\n",
       "      <th>1</th>\n",
       "      <td>is alphabet inc googl the best stock to buy an...</td>\n",
       "      <td>Yahoo</td>\n",
       "      <td>we recently published a list of  best stocks t...</td>\n",
       "    </tr>\n",
       "    <tr>\n",
       "      <th>2</th>\n",
       "      <td>is alphabet inc goog the best stock to buy acc...</td>\n",
       "      <td>Yahoo</td>\n",
       "      <td>we recently published a list of  best stocks t...</td>\n",
       "    </tr>\n",
       "    <tr>\n",
       "      <th>3</th>\n",
       "      <td>google earnings are coming today heres what to...</td>\n",
       "      <td>Yahoo</td>\n",
       "      <td>google googl will report firstquarter  earning...</td>\n",
       "    </tr>\n",
       "    <tr>\n",
       "      <th>4</th>\n",
       "      <td>equity markets close higher over potential red...</td>\n",
       "      <td>Yahoo</td>\n",
       "      <td>us benchmark equity indexes closed higher on w...</td>\n",
       "    </tr>\n",
       "  </tbody>\n",
       "</table>\n",
       "</div>"
      ],
      "text/plain": [
       "                                            headline source  \\\n",
       "0  alphabet earnings fed comments nintendo switch...  Yahoo   \n",
       "1  is alphabet inc googl the best stock to buy an...  Yahoo   \n",
       "2  is alphabet inc goog the best stock to buy acc...  Yahoo   \n",
       "3  google earnings are coming today heres what to...  Yahoo   \n",
       "4  equity markets close higher over potential red...  Yahoo   \n",
       "\n",
       "                                             summary  \n",
       "0  heres what investors are watching on thursday ...  \n",
       "1  we recently published a list of  best stocks t...  \n",
       "2  we recently published a list of  best stocks t...  \n",
       "3  google googl will report firstquarter  earning...  \n",
       "4  us benchmark equity indexes closed higher on w...  "
      ]
     },
     "execution_count": 17,
     "metadata": {},
     "output_type": "execute_result"
    }
   ],
   "source": [
    "data.head()"
   ]
  },
  {
   "cell_type": "markdown",
   "id": "bd5da84f-e633-4a52-b87c-51eabf9a6b2a",
   "metadata": {},
   "source": [
    "# Use sklearn's built-in stopwords"
   ]
  },
  {
   "cell_type": "code",
   "execution_count": 18,
   "id": "bb24b602-918d-4a25-bb33-4027d349993a",
   "metadata": {},
   "outputs": [],
   "source": [
    "stop_words = set(ENGLISH_STOP_WORDS)"
   ]
  },
  {
   "cell_type": "markdown",
   "id": "1baf48db-f7c1-4cf4-bd95-27c9710dd941",
   "metadata": {},
   "source": [
    "# Function to remove stopwords only (no lowercase or punctuation)"
   ]
  },
  {
   "cell_type": "code",
   "execution_count": 19,
   "id": "8cbc19a5-8489-4513-a861-7388e2573034",
   "metadata": {},
   "outputs": [],
   "source": [
    "def remove_stopwords_sklearn(text):\n",
    "    if pd.isnull(text):\n",
    "        return \"\"\n",
    "    words = text.split()\n",
    "    filtered = [word for word in words if word.lower() not in stop_words]\n",
    "    return \" \".join(filtered)"
   ]
  },
  {
   "cell_type": "markdown",
   "id": "6405503a-e48f-41cd-ba7d-72d6247d8824",
   "metadata": {},
   "source": [
    "# Apply to 'summary' and 'headline' columns"
   ]
  },
  {
   "cell_type": "code",
   "execution_count": 20,
   "id": "44afb0c2-610f-48b4-bfd7-8921b5c7cfbd",
   "metadata": {},
   "outputs": [],
   "source": [
    "for col in ['summary', 'headline']:\n",
    "    data[col] = data[col].astype(str).apply(remove_stopwords_sklearn)"
   ]
  },
  {
   "cell_type": "markdown",
   "id": "63231df6-a792-43be-9c04-b5e1fe013c85",
   "metadata": {},
   "source": [
    "# Now `data` has stopwords removed permanently from both columns"
   ]
  },
  {
   "cell_type": "code",
   "execution_count": 21,
   "id": "f5f4dedc-b69d-4fdc-96cb-cd81a80148ee",
   "metadata": {},
   "outputs": [
    {
     "data": {
      "text/plain": [
       "'heres investors watching thursday april procter gamble pg merck mrk pepsico pep set release quarterly results opening bell alphabet goog googl tmobile tmus intel intc deck report market close minneapolis federal reserve president neel kashkari deliver remarks nintendo ntdoy t kick switch preorders canada watch expert insights analysis latest market action check market domination overtime'"
      ]
     },
     "execution_count": 21,
     "metadata": {},
     "output_type": "execute_result"
    }
   ],
   "source": [
    "data['summary'][0]"
   ]
  },
  {
   "cell_type": "code",
   "execution_count": 22,
   "id": "c0d98c26-7a43-4191-aea2-0d9edf7fbcfb",
   "metadata": {},
   "outputs": [
    {
     "data": {
      "text/plain": [
       "'alphabet earnings fed comments nintendo switch watch'"
      ]
     },
     "execution_count": 22,
     "metadata": {},
     "output_type": "execute_result"
    }
   ],
   "source": [
    "data['headline'][0]"
   ]
  },
  {
   "cell_type": "markdown",
   "id": "56d1ce63-0c3d-4a1c-9880-53a2279d6dde",
   "metadata": {},
   "source": [
    "# Check Target column value counts"
   ]
  },
  {
   "cell_type": "code",
   "execution_count": 23,
   "id": "2dd03094-134e-4c53-9166-5f05cfde2f94",
   "metadata": {},
   "outputs": [
    {
     "data": {
      "text/plain": [
       "source\n",
       "Yahoo           155\n",
       "SeekingAlpha     44\n",
       "Finnhub          14\n",
       "MarketWatch      13\n",
       "DowJones          5\n",
       "Name: count, dtype: int64"
      ]
     },
     "execution_count": 23,
     "metadata": {},
     "output_type": "execute_result"
    }
   ],
   "source": [
    "source_vc  = data[\"source\"].value_counts()\n",
    "source_vc"
   ]
  },
  {
   "cell_type": "code",
   "execution_count": 24,
   "id": "7cb49c1c-0906-497e-af41-c82dedd4652d",
   "metadata": {
    "scrolled": true
   },
   "outputs": [
    {
     "data": {
      "image/png": "[encoded data removed]",
      "text/plain": [
       "<Figure size 640x480 with 1 Axes>"
      ]
     },
     "metadata": {},
     "output_type": "display_data"
    }
   ],
   "source": [
    "source_vc.plot(kind='barh',title='The Count of the Source Names')\n",
    "plt.show()"
   ]
  },
  {
   "cell_type": "code",
   "execution_count": 25,
   "id": "e61e9f75-61b8-468a-bf6c-8cabe3b7c04b",
   "metadata": {},
   "outputs": [
    {
     "data": {
      "image/png": "[encoded data removed]",
      "text/plain": [
       "<Figure size 640x480 with 1 Axes>"
      ]
     },
     "metadata": {},
     "output_type": "display_data"
    }
   ],
   "source": [
    "source_vc.plot(kind='pie',title='The Count of the Source Names')\n",
    "plt.show()"
   ]
  },
  {
   "cell_type": "markdown",
   "id": "78c33cd7-23a8-4fd1-b3bc-6bccd8b9f439",
   "metadata": {},
   "source": [
    "# Target column maximum value counts"
   ]
  },
  {
   "cell_type": "code",
   "execution_count": 32,
   "id": "6ca8c2d0-7544-46cb-a115-d39a73a6319a",
   "metadata": {},
   "outputs": [
    {
     "data": {
      "text/plain": [
       "155"
      ]
     },
     "execution_count": 32,
     "metadata": {},
     "output_type": "execute_result"
    }
   ],
   "source": [
    "max_count = data['source'].value_counts().max()\n",
    "max_count"
   ]
  },
  {
   "cell_type": "code",
   "execution_count": 33,
   "id": "079b5150-e31a-4ae2-a1d4-621395c7cbe5",
   "metadata": {},
   "outputs": [],
   "source": [
    "upsampled_list = []"
   ]
  },
  {
   "cell_type": "code",
   "execution_count": 34,
   "id": "af65656d-5582-4e45-9c8d-85e1334692dc",
   "metadata": {},
   "outputs": [],
   "source": [
    "from sklearn.utils import resample\n",
    "for cls in data['source'].unique():\n",
    "    cls_data = data[data['source'] == cls]\n",
    "    cls_upsampled = resample(\n",
    "        cls_data,\n",
    "        replace=True,\n",
    "        n_samples=max_count,\n",
    "        random_state=42\n",
    "    )\n",
    "    upsampled_list.append(cls_upsampled)"
   ]
  },
  {
   "cell_type": "code",
   "execution_count": 35,
   "id": "798afa0d-a216-4377-bfd6-704da5e4948f",
   "metadata": {},
   "outputs": [],
   "source": [
    "data_balanced = pd.concat(upsampled_list)"
   ]
  },
  {
   "cell_type": "code",
   "execution_count": 36,
   "id": "227a8172-4945-46ed-b9ba-a8058d9289d6",
   "metadata": {},
   "outputs": [],
   "source": [
    "data_balanced = data_balanced.sample(frac=1, random_state=42).reset_index(drop=True)"
   ]
  },
  {
   "cell_type": "markdown",
   "id": "2427b5ea-107b-427b-bfa8-84fb304bf1b6",
   "metadata": {},
   "source": [
    "# After Balancing"
   ]
  },
  {
   "cell_type": "code",
   "execution_count": 37,
   "id": "cb757dea-c54e-4d3a-9ba1-4ed627dc30b4",
   "metadata": {},
   "outputs": [
    {
     "name": "stdout",
     "output_type": "stream",
     "text": [
      "\n",
      "After balancing:\n",
      "source\n",
      "MarketWatch     155\n",
      "DowJones        155\n",
      "Finnhub         155\n",
      "SeekingAlpha    155\n",
      "Yahoo           155\n",
      "Name: count, dtype: int64\n"
     ]
    }
   ],
   "source": [
    "print(\"\\nAfter balancing:\")\n",
    "print(data_balanced['source'].value_counts())"
   ]
  },
  {
   "cell_type": "markdown",
   "id": "e392899c-cb9a-4593-8ae9-be6c9209ce36",
   "metadata": {},
   "source": [
    "# Swap Variable"
   ]
  },
  {
   "cell_type": "code",
   "execution_count": 38,
   "id": "7a142a1d-fb73-494e-8a1f-af5f3d841df4",
   "metadata": {},
   "outputs": [],
   "source": [
    "data = data_balanced"
   ]
  },
  {
   "cell_type": "markdown",
   "id": "ae5c4ef0-2521-40ad-9d24-71edbb71b5b5",
   "metadata": {},
   "source": [
    "# Encoding"
   ]
  },
  {
   "cell_type": "code",
   "execution_count": 39,
   "id": "c66dc9a7-6f6c-41e5-8e8c-cc11af475518",
   "metadata": {},
   "outputs": [
    {
     "data": {
      "text/html": [
       "<div>\n",
       "<style scoped>\n",
       "    .dataframe tbody tr th:only-of-type {\n",
       "        vertical-align: middle;\n",
       "    }\n",
       "\n",
       "    .dataframe tbody tr th {\n",
       "        vertical-align: top;\n",
       "    }\n",
       "\n",
       "    .dataframe thead th {\n",
       "        text-align: right;\n",
       "    }\n",
       "</style>\n",
       "<table border=\"1\" class=\"dataframe\">\n",
       "  <thead>\n",
       "    <tr style=\"text-align: right;\">\n",
       "      <th></th>\n",
       "      <th>headline</th>\n",
       "      <th>source</th>\n",
       "      <th>summary</th>\n",
       "    </tr>\n",
       "  </thead>\n",
       "  <tbody>\n",
       "    <tr>\n",
       "      <th>0</th>\n",
       "      <td>148</td>\n",
       "      <td>2</td>\n",
       "      <td>112</td>\n",
       "    </tr>\n",
       "    <tr>\n",
       "      <th>1</th>\n",
       "      <td>72</td>\n",
       "      <td>0</td>\n",
       "      <td>53</td>\n",
       "    </tr>\n",
       "  </tbody>\n",
       "</table>\n",
       "</div>"
      ],
      "text/plain": [
       "   headline  source  summary\n",
       "0       148       2      112\n",
       "1        72       0       53"
      ]
     },
     "execution_count": 39,
     "metadata": {},
     "output_type": "execute_result"
    }
   ],
   "source": [
    "le = LabelEncoder()\n",
    "cat = data.select_dtypes(include='object').columns\n",
    "for i in cat:\n",
    "    data[i] = le.fit_transform(data[i])\n",
    "\n",
    "data.head(2)"
   ]
  },
  {
   "cell_type": "markdown",
   "id": "2f6d5238-7c5b-4072-8e66-c777712dafb5",
   "metadata": {},
   "source": [
    "# Modeling"
   ]
  },
  {
   "cell_type": "code",
   "execution_count": 40,
   "id": "845cbff3-b480-486a-8693-e80980e6267b",
   "metadata": {},
   "outputs": [],
   "source": [
    "X = data.drop(['source'],axis=1)\n",
    "y = data['source']"
   ]
  },
  {
   "cell_type": "code",
   "execution_count": 41,
   "id": "13177aef-be86-4814-9365-0f2ec17465e2",
   "metadata": {},
   "outputs": [],
   "source": [
    "X_train,X_test,y_train,y_test = train_test_split(X,y,test_size=0.2)"
   ]
  },
  {
   "cell_type": "code",
   "execution_count": 42,
   "id": "37a32e5d-cea5-41e5-9dba-efd67aa53d3c",
   "metadata": {},
   "outputs": [
    {
     "data": {
      "image/png": "[encoded data removed]",
      "text/plain": [
       "<Figure size 640x480 with 1 Axes>"
      ]
     },
     "metadata": {},
     "output_type": "display_data"
    }
   ],
   "source": [
    "sns.countplot(x=y)\n",
    "plt.title(\"Class Distribution (Before Model)\")\n",
    "plt.show()"
   ]
  },
  {
   "cell_type": "markdown",
   "id": "38b190e9-398a-4471-ad47-af2366e645ab",
   "metadata": {},
   "source": [
    "# Correlation Heatmap (for numeric columns)"
   ]
  },
  {
   "cell_type": "code",
   "execution_count": 43,
   "id": "7324fd85-1efe-4f6d-b99d-28942aac188b",
   "metadata": {},
   "outputs": [
    {
     "data": {
      "image/png": "[encoded data removed]",
      "text/plain": [
       "<Figure size 1000x600 with 2 Axes>"
      ]
     },
     "metadata": {},
     "output_type": "display_data"
    }
   ],
   "source": [
    "plt.figure(figsize=(10,6))\n",
    "sns.heatmap(data.corr(numeric_only=True), annot=True, cmap=\"coolwarm\")\n",
    "plt.title(\"Correlation Heatmap\")\n",
    "plt.show()"
   ]
  },
  {
   "cell_type": "markdown",
   "id": "cbf298c9-27b1-4b23-8a0a-ae42de85aa10",
   "metadata": {},
   "source": [
    "# Scale for feature columns"
   ]
  },
  {
   "cell_type": "code",
   "execution_count": 44,
   "id": "32ab31e7-2c0d-4f4a-9f6f-b1e598244b26",
   "metadata": {},
   "outputs": [
    {
     "data": {
      "text/html": [
       "<div>\n",
       "<style scoped>\n",
       "    .dataframe tbody tr th:only-of-type {\n",
       "        vertical-align: middle;\n",
       "    }\n",
       "\n",
       "    .dataframe tbody tr th {\n",
       "        vertical-align: top;\n",
       "    }\n",
       "\n",
       "    .dataframe thead th {\n",
       "        text-align: right;\n",
       "    }\n",
       "</style>\n",
       "<table border=\"1\" class=\"dataframe\">\n",
       "  <thead>\n",
       "    <tr style=\"text-align: right;\">\n",
       "      <th></th>\n",
       "      <th>headline</th>\n",
       "      <th>source</th>\n",
       "      <th>summary</th>\n",
       "    </tr>\n",
       "  </thead>\n",
       "  <tbody>\n",
       "    <tr>\n",
       "      <th>0</th>\n",
       "      <td>1.417293</td>\n",
       "      <td>2</td>\n",
       "      <td>1.609974</td>\n",
       "    </tr>\n",
       "    <tr>\n",
       "      <th>1</th>\n",
       "      <td>-0.296072</td>\n",
       "      <td>0</td>\n",
       "      <td>-0.269617</td>\n",
       "    </tr>\n",
       "  </tbody>\n",
       "</table>\n",
       "</div>"
      ],
      "text/plain": [
       "   headline  source   summary\n",
       "0  1.417293       2  1.609974\n",
       "1 -0.296072       0 -0.269617"
      ]
     },
     "execution_count": 44,
     "metadata": {},
     "output_type": "execute_result"
    }
   ],
   "source": [
    "sc = StandardScaler()\n",
    "for i in X:\n",
    "    data[[i]] = sc.fit_transform(data[[i]])\n",
    "\n",
    "data.head(2)"
   ]
  },
  {
   "cell_type": "markdown",
   "id": "0c01f841-e367-40c8-b13c-2f97a3810861",
   "metadata": {},
   "source": [
    "# Preprocessing pipeline"
   ]
  },
  {
   "cell_type": "code",
   "execution_count": 45,
   "id": "97982d59-5ae2-4de9-bdc0-416af3588aab",
   "metadata": {},
   "outputs": [],
   "source": [
    "preprocessor = Pipeline([\n",
    "    ('imputer', SimpleImputer(strategy='most_frequent')),\n",
    "    ('scaler', StandardScaler())\n",
    "])"
   ]
  },
  {
   "cell_type": "markdown",
   "id": "2a33b3e7-3e4c-4667-a1cf-4418f94c3267",
   "metadata": {},
   "source": [
    "# Define models & parameter grids for classification"
   ]
  },
  {
   "cell_type": "code",
   "execution_count": 46,
   "id": "0af93417-f5af-4357-a633-53854bf24812",
   "metadata": {},
   "outputs": [
    {
     "name": "stdout",
     "output_type": "stream",
     "text": [
      " Total Models Loaded: 10\n"
     ]
    }
   ],
   "source": [
    "models = {\n",
    "    # -------------------------------\n",
    "    \"Naive Bayes\": {\n",
    "        \"model\": MultinomialNB(),\n",
    "        \"param_grid\": {\n",
    "            \"alpha\": [0.1, 0.5, 1.0]\n",
    "        }\n",
    "    },\n",
    "    # -------------------------------\n",
    "    \"Logistic Regression\": {\n",
    "        \"model\": LogisticRegression(solver='lbfgs', max_iter=500, random_state=42),\n",
    "        \"param_grid\": {\n",
    "            \"C\": [0.1, 1, 10],\n",
    "            \"penalty\": ['l2']\n",
    "        }\n",
    "    },\n",
    "    # -------------------------------\n",
    "    \"Decision Tree\": {\n",
    "        \"model\": DecisionTreeClassifier(random_state=42),\n",
    "        \"param_grid\": {\n",
    "            \"max_depth\": [3, 5, 10, None],\n",
    "            \"min_samples_split\": [2, 5, 10],\n",
    "            \"min_samples_leaf\": [1, 2, 4]\n",
    "        }\n",
    "    },\n",
    "    # -------------------------------\n",
    "    \"Random Forest\": {\n",
    "        \"model\": RandomForestClassifier(random_state=42),\n",
    "        \"param_grid\": {\n",
    "            \"n_estimators\": [100, 200],\n",
    "            \"max_depth\": [None, 10, 20],\n",
    "            \"min_samples_split\": [2, 5],\n",
    "            \"min_samples_leaf\": [1, 2]\n",
    "        }\n",
    "    },\n",
    "    # -------------------------------\n",
    "    \"Gradient Boosting\": {\n",
    "        \"model\": GradientBoostingClassifier(random_state=42),\n",
    "        \"param_grid\": {\n",
    "            \"n_estimators\": [100, 200],\n",
    "            \"learning_rate\": [0.01, 0.1, 0.2],\n",
    "            \"max_depth\": [3, 5]\n",
    "        }\n",
    "    },\n",
    "    # -------------------------------\n",
    "    \"AdaBoost\": {\n",
    "        \"model\": AdaBoostClassifier(random_state=42),\n",
    "        \"param_grid\": {\n",
    "            \"n_estimators\": [50, 100, 200],\n",
    "            \"learning_rate\": [0.01, 0.1, 1.0]\n",
    "        }\n",
    "    },\n",
    "    # -------------------------------\n",
    "    \"Extra Trees\": {\n",
    "        \"model\": ExtraTreesClassifier(random_state=42),\n",
    "        \"param_grid\": {\n",
    "            \"n_estimators\": [100, 200],\n",
    "            \"max_depth\": [None, 10, 20],\n",
    "            \"min_samples_split\": [2, 5],\n",
    "            \"min_samples_leaf\": [1, 2]\n",
    "        }\n",
    "    },\n",
    "    # -------------------------------\n",
    "    \"K-Nearest Neighbors\": {\n",
    "        \"model\": KNeighborsClassifier(),\n",
    "        \"param_grid\": {\n",
    "            \"n_neighbors\": [3, 5, 7, 9],\n",
    "            \"weights\": [\"uniform\", \"distance\"],\n",
    "            \"p\": [1, 2]  # Manhattan (L1) or Euclidean (L2)\n",
    "        }\n",
    "    },\n",
    "    # -------------------------------\n",
    "    \"MLP Classifier\": {\n",
    "        \"model\": MLPClassifier(random_state=42),\n",
    "        \"param_grid\": {\n",
    "            \"hidden_layer_sizes\": [(50,), (100,)],\n",
    "            \"activation\": [\"relu\", \"tanh\"],\n",
    "            \"solver\": [\"adam\"],\n",
    "            \"max_iter\": [200]\n",
    "        }\n",
    "    },\n",
    "    # -------------------------------\n",
    "    \"XGBoost\": {\n",
    "        \"model\": XGBClassifier(use_label_encoder=False, eval_metric=\"logloss\", random_state=42),\n",
    "        \"param_grid\": {\n",
    "            \"n_estimators\": [100, 200],\n",
    "            \"max_depth\": [3, 5, 7],\n",
    "            \"learning_rate\": [0.01, 0.1, 0.2],\n",
    "            \"subsample\": [0.8, 1.0],\n",
    "            \"colsample_bytree\": [0.8, 1.0]\n",
    "        }\n",
    "    }\n",
    "}\n",
    "\n",
    "print(f\" Total Models Loaded: {len(models)}\")"
   ]
  },
  {
   "cell_type": "markdown",
   "id": "491852f4-2963-479a-989d-b56038543b63",
   "metadata": {},
   "source": [
    "# Run GridSearchCV for each classification model"
   ]
  },
  {
   "cell_type": "code",
   "execution_count": 47,
   "id": "4b8cd7e1-554f-4fd6-a7bc-2c765627ebcf",
   "metadata": {},
   "outputs": [
    {
     "name": "stdout",
     "output_type": "stream",
     "text": [
      "\n",
      " Running GridSearchCV for Naive Bayes...\n",
      "Naive Bayes Best CV Score (Accuracy): 0.2500\n",
      "Naive Bayes Best Params: {'alpha': 0.1}\n",
      "Naive Bayes Classification Report:\n",
      "              precision    recall  f1-score   support\n",
      "\n",
      "           0       0.00      0.00      0.00        38\n",
      "           1       0.21      0.50      0.29        28\n",
      "           2       0.37      0.42      0.39        24\n",
      "           3       0.00      0.00      0.00        29\n",
      "           4       0.25      0.36      0.30        36\n",
      "\n",
      "    accuracy                           0.24       155\n",
      "   macro avg       0.17      0.26      0.20       155\n",
      "weighted avg       0.15      0.24      0.18       155\n",
      "\n",
      "\n",
      " Running GridSearchCV for Logistic Regression...\n",
      "Logistic Regression Best CV Score (Accuracy): 0.3355\n",
      "Logistic Regression Best Params: {'C': 0.1, 'penalty': 'l2'}\n",
      "Logistic Regression Classification Report:\n",
      "              precision    recall  f1-score   support\n",
      "\n",
      "           0       0.64      0.79      0.71        38\n",
      "           1       0.19      0.32      0.24        28\n",
      "           2       0.30      0.50      0.38        24\n",
      "           3       0.00      0.00      0.00        29\n",
      "           4       0.48      0.28      0.35        36\n",
      "\n",
      "    accuracy                           0.39       155\n",
      "   macro avg       0.32      0.38      0.33       155\n",
      "weighted avg       0.35      0.39      0.36       155\n",
      "\n",
      "\n",
      " Running GridSearchCV for Decision Tree...\n",
      "Decision Tree Best CV Score (Accuracy): 0.9516\n",
      "Decision Tree Best Params: {'max_depth': 10, 'min_samples_leaf': 1, 'min_samples_split': 2}\n",
      "Decision Tree Classification Report:\n",
      "              precision    recall  f1-score   support\n",
      "\n",
      "           0       0.97      1.00      0.99        38\n",
      "           1       0.93      1.00      0.97        28\n",
      "           2       0.92      1.00      0.96        24\n",
      "           3       1.00      1.00      1.00        29\n",
      "           4       1.00      0.86      0.93        36\n",
      "\n",
      "    accuracy                           0.97       155\n",
      "   macro avg       0.97      0.97      0.97       155\n",
      "weighted avg       0.97      0.97      0.97       155\n",
      "\n",
      "\n",
      " Running GridSearchCV for Random Forest...\n",
      "Random Forest Best CV Score (Accuracy): 0.9435\n",
      "Random Forest Best Params: {'max_depth': None, 'min_samples_leaf': 1, 'min_samples_split': 2, 'n_estimators': 200}\n",
      "Random Forest Classification Report:\n",
      "              precision    recall  f1-score   support\n",
      "\n",
      "           0       0.95      1.00      0.97        38\n",
      "           1       0.93      1.00      0.97        28\n",
      "           2       0.92      1.00      0.96        24\n",
      "           3       0.97      1.00      0.98        29\n",
      "           4       1.00      0.81      0.89        36\n",
      "\n",
      "    accuracy                           0.95       155\n",
      "   macro avg       0.95      0.96      0.96       155\n",
      "weighted avg       0.96      0.95      0.95       155\n",
      "\n",
      "\n",
      " Running GridSearchCV for Gradient Boosting...\n",
      "Gradient Boosting Best CV Score (Accuracy): 0.9564\n",
      "Gradient Boosting Best Params: {'learning_rate': 0.2, 'max_depth': 5, 'n_estimators': 200}\n",
      "Gradient Boosting Classification Report:\n",
      "              precision    recall  f1-score   support\n",
      "\n",
      "           0       0.97      1.00      0.99        38\n",
      "           1       1.00      1.00      1.00        28\n",
      "           2       0.92      1.00      0.96        24\n",
      "           3       0.97      1.00      0.98        29\n",
      "           4       1.00      0.89      0.94        36\n",
      "\n",
      "    accuracy                           0.97       155\n",
      "   macro avg       0.97      0.98      0.97       155\n",
      "weighted avg       0.98      0.97      0.97       155\n",
      "\n",
      "\n",
      " Running GridSearchCV for AdaBoost...\n",
      "AdaBoost Best CV Score (Accuracy): 0.5435\n",
      "AdaBoost Best Params: {'learning_rate': 0.1, 'n_estimators': 50}\n",
      "AdaBoost Classification Report:\n",
      "              precision    recall  f1-score   support\n",
      "\n",
      "           0       0.76      1.00      0.86        38\n",
      "           1       0.38      0.43      0.40        28\n",
      "           2       0.00      0.00      0.00        24\n",
      "           3       0.97      1.00      0.98        29\n",
      "           4       0.49      0.50      0.49        36\n",
      "\n",
      "    accuracy                           0.63       155\n",
      "   macro avg       0.52      0.59      0.55       155\n",
      "weighted avg       0.55      0.63      0.58       155\n",
      "\n",
      "\n",
      " Running GridSearchCV for Extra Trees...\n",
      "Extra Trees Best CV Score (Accuracy): 0.9645\n",
      "Extra Trees Best Params: {'max_depth': None, 'min_samples_leaf': 1, 'min_samples_split': 5, 'n_estimators': 200}\n",
      "Extra Trees Classification Report:\n",
      "              precision    recall  f1-score   support\n",
      "\n",
      "           0       0.97      1.00      0.99        38\n",
      "           1       0.93      1.00      0.97        28\n",
      "           2       0.92      1.00      0.96        24\n",
      "           3       0.94      1.00      0.97        29\n",
      "           4       1.00      0.81      0.89        36\n",
      "\n",
      "    accuracy                           0.95       155\n",
      "   macro avg       0.95      0.96      0.95       155\n",
      "weighted avg       0.96      0.95      0.95       155\n",
      "\n",
      "\n",
      " Running GridSearchCV for K-Nearest Neighbors...\n",
      "K-Nearest Neighbors Best CV Score (Accuracy): 0.9371\n",
      "K-Nearest Neighbors Best Params: {'n_neighbors': 3, 'p': 2, 'weights': 'distance'}\n",
      "K-Nearest Neighbors Classification Report:\n",
      "              precision    recall  f1-score   support\n",
      "\n",
      "           0       0.97      1.00      0.99        38\n",
      "           1       0.85      1.00      0.92        28\n",
      "           2       0.92      1.00      0.96        24\n",
      "           3       0.91      1.00      0.95        29\n",
      "           4       1.00      0.69      0.82        36\n",
      "\n",
      "    accuracy                           0.93       155\n",
      "   macro avg       0.93      0.94      0.93       155\n",
      "weighted avg       0.94      0.93      0.92       155\n",
      "\n",
      "\n",
      " Running GridSearchCV for MLP Classifier...\n",
      "MLP Classifier Best CV Score (Accuracy): 0.6145\n",
      "MLP Classifier Best Params: {'activation': 'tanh', 'hidden_layer_sizes': (100,), 'max_iter': 200, 'solver': 'adam'}\n",
      "MLP Classifier Classification Report:\n",
      "              precision    recall  f1-score   support\n",
      "\n",
      "           0       0.80      0.53      0.63        38\n",
      "           1       0.68      0.61      0.64        28\n",
      "           2       0.39      0.92      0.55        24\n",
      "           3       0.67      0.76      0.71        29\n",
      "           4       0.69      0.31      0.42        36\n",
      "\n",
      "    accuracy                           0.59       155\n",
      "   macro avg       0.65      0.62      0.59       155\n",
      "weighted avg       0.66      0.59      0.59       155\n",
      "\n",
      "\n",
      " Running GridSearchCV for XGBoost...\n",
      "XGBoost Best CV Score (Accuracy): 0.9564\n",
      "XGBoost Best Params: {'colsample_bytree': 1.0, 'learning_rate': 0.1, 'max_depth': 3, 'n_estimators': 200, 'subsample': 1.0}\n",
      "XGBoost Classification Report:\n",
      "              precision    recall  f1-score   support\n",
      "\n",
      "           0       0.97      1.00      0.99        38\n",
      "           1       0.90      1.00      0.95        28\n",
      "           2       0.92      1.00      0.96        24\n",
      "           3       0.97      1.00      0.98        29\n",
      "           4       1.00      0.81      0.89        36\n",
      "\n",
      "    accuracy                           0.95       155\n",
      "   macro avg       0.95      0.96      0.95       155\n",
      "weighted avg       0.96      0.95      0.95       155\n",
      "\n",
      "\n",
      " Summary Results:\n",
      "                 Model                                        Best Params  \\\n",
      "0          Naive Bayes                                     {'alpha': 0.1}   \n",
      "1  Logistic Regression                        {'C': 0.1, 'penalty': 'l2'}   \n",
      "2        Decision Tree  {'max_depth': 10, 'min_samples_leaf': 1, 'min_...   \n",
      "3        Random Forest  {'max_depth': None, 'min_samples_leaf': 1, 'mi...   \n",
      "4    Gradient Boosting  {'learning_rate': 0.2, 'max_depth': 5, 'n_esti...   \n",
      "5             AdaBoost         {'learning_rate': 0.1, 'n_estimators': 50}   \n",
      "6          Extra Trees  {'max_depth': None, 'min_samples_leaf': 1, 'mi...   \n",
      "7  K-Nearest Neighbors  {'n_neighbors': 3, 'p': 2, 'weights': 'distance'}   \n",
      "8       MLP Classifier  {'activation': 'tanh', 'hidden_layer_sizes': (...   \n",
      "9              XGBoost  {'colsample_bytree': 1.0, 'learning_rate': 0.1...   \n",
      "\n",
      "   Accuracy  Precision    Recall  F1 Score  \n",
      "0  0.238710   0.153742  0.238710  0.182820  \n",
      "1  0.393548   0.348128  0.393548  0.355968  \n",
      "2  0.967742   0.969760  0.967742  0.967061  \n",
      "3  0.954839   0.957552  0.954839  0.953108  \n",
      "4  0.974194   0.975567  0.974194  0.973789  \n",
      "5  0.625806   0.547915  0.625806  0.582452  \n",
      "6  0.954839   0.957689  0.954839  0.953144  \n",
      "7  0.929032   0.936892  0.929032  0.924731  \n",
      "8  0.593548   0.664206  0.593548  0.587746  \n",
      "9  0.954839   0.958085  0.954839  0.953254  \n",
      "\n",
      " Best Model: Extra Trees\n",
      " Best CV Score (Accuracy): 0.9645\n"
     ]
    }
   ],
   "source": [
    "results = []\n",
    "best_score = -float('inf')\n",
    "best_model = None\n",
    "best_name = None\n",
    "\n",
    "# Run GridSearchCV for each classification model\n",
    "for name, mp in models.items():\n",
    "    print(f\"\\n Running GridSearchCV for {name}...\")\n",
    "    grid = GridSearchCV(mp['model'], param_grid=mp['param_grid'], cv=3, scoring='accuracy', n_jobs=-1)\n",
    "    grid.fit(X_train, y_train)\n",
    "\n",
    "    y_pred = grid.predict(X_test)\n",
    "\n",
    "    acc = accuracy_score(y_test, y_pred)\n",
    "    prec = precision_score(y_test, y_pred, average='weighted')\n",
    "    rec = recall_score(y_test, y_pred, average='weighted')\n",
    "    f1 = f1_score(y_test, y_pred, average='weighted')\n",
    "\n",
    "    results.append({\n",
    "        'Model': name,\n",
    "        'Best Params': grid.best_params_,\n",
    "        'Accuracy': acc,\n",
    "        'Precision': prec,\n",
    "        'Recall': rec,\n",
    "        'F1 Score': f1\n",
    "    })\n",
    "\n",
    "    print(f\"{name} Best CV Score (Accuracy): {grid.best_score_:.4f}\")\n",
    "    print(f\"{name} Best Params: {grid.best_params_}\")\n",
    "    print(f\"{name} Classification Report:\\n{classification_report(y_test, y_pred)}\")\n",
    "\n",
    "    if grid.best_score_ > best_score:\n",
    "        best_score = grid.best_score_\n",
    "        best_model = grid.best_estimator_\n",
    "        best_name = name\n",
    "\n",
    "# Output summary\n",
    "results_df = pd.DataFrame(results)\n",
    "print(\"\\n Summary Results:\")\n",
    "print(results_df)\n",
    "\n",
    "print(f\"\\n Best Model: {best_name}\")\n",
    "print(f\" Best CV Score (Accuracy): {best_score:.4f}\")"
   ]
  },
  {
   "cell_type": "markdown",
   "id": "414ad99c-2b37-4b01-8a3c-b85ae5e64018",
   "metadata": {},
   "source": [
    "# Confusion matrix"
   ]
  },
  {
   "cell_type": "code",
   "execution_count": 48,
   "id": "c5c19968-260c-4bbd-8b0e-803c1be2e5d9",
   "metadata": {},
   "outputs": [
    {
     "data": {
      "image/png": "[encoded data removed]",
      "text/plain": [
       "<Figure size 600x400 with 2 Axes>"
      ]
     },
     "metadata": {},
     "output_type": "display_data"
    }
   ],
   "source": [
    "cm = confusion_matrix(y_test, y_pred)\n",
    "plt.figure(figsize=(6,4))\n",
    "sns.heatmap(cm, annot=True, fmt='d', cmap='Blues', xticklabels=set(y_test), yticklabels=set(y_test))\n",
    "plt.xlabel(\"Predicted\")\n",
    "plt.ylabel(\"Actual\")\n",
    "plt.title(\"Confusion Matrix\")\n",
    "plt.show()"
   ]
  },
  {
   "cell_type": "markdown",
   "id": "38da6857-9134-4e80-9ee2-3316b33a56e4",
   "metadata": {},
   "source": [
    "# Save the model"
   ]
  },
  {
   "cell_type": "code",
   "execution_count": 49,
   "id": "bb384412-0281-4634-9ce0-59aa3a1497e2",
   "metadata": {},
   "outputs": [
    {
     "data": {
      "text/plain": [
       "['16.Google Daily News.joblib']"
      ]
     },
     "execution_count": 49,
     "metadata": {},
     "output_type": "execute_result"
    }
   ],
   "source": [
    "feature_columns = X.columns.to_list()\n",
    "joblib.dump(feature_columns,'16.Google Daily News.joblib')"
   ]
  },
  {
   "cell_type": "code",
   "execution_count": 50,
   "id": "0c6d1931-be8a-42d3-8d0e-0d0d9628980f",
   "metadata": {},
   "outputs": [
    {
     "data": {
      "text/plain": [
       "['bestmodel 16.Google Daily News.joblib']"
      ]
     },
     "execution_count": 50,
     "metadata": {},
     "output_type": "execute_result"
    }
   ],
   "source": [
    "joblib.dump(best_model,'bestmodel 16.Google Daily News.joblib')"
   ]
  },
  {
   "cell_type": "markdown",
   "id": "fd90048b-14d2-41a0-ada4-839df637d779",
   "metadata": {},
   "source": [
    "# If you have any suggestions, please DM me.\n",
    "# Even a small message from you can make a big impact on my career"
   ]
  },
  {
   "cell_type": "markdown",
   "id": "4dd23701-2afc-47a1-ba32-199842302124",
   "metadata": {},
   "source": [
    "##### I am arun"
   ]
  },
  {
   "cell_type": "code",
   "execution_count": null,
   "id": "176267c8-a095-4746-99c3-79c0130b4215",
   "metadata": {},
   "outputs": [],
   "source": []
  }
 ],
 "metadata": {
  "kernelspec": {
   "display_name": "Python 3 (ipykernel)",
   "language": "python",
   "name": "python3"
  },
  "language_info": {
   "codemirror_mode": {
    "name": "ipython",
    "version": 3
   },
   "file_extension": ".py",
   "mimetype": "text/x-python",
   "name": "python",
   "nbconvert_exporter": "python",
   "pygments_lexer": "ipython3",
   "version": "3.12.3"
  }
 },
 "nbformat": 4,
 "nbformat_minor": 5
}
